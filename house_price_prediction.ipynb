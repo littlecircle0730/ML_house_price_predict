{
 "cells": [
  {
   "cell_type": "code",
   "execution_count": 1,
   "metadata": {},
   "outputs": [],
   "source": [
    "import hashlib\n",
    "import os\n",
    "import tarfile\n",
    "import zipfile\n",
    "import requests\n",
    "import matplotlib.pyplot as plt"
   ]
  },
  {
   "cell_type": "code",
   "execution_count": 2,
   "metadata": {},
   "outputs": [],
   "source": [
    "DATA_HUB = dict()\n",
    "DATA_URL = \"https://d21-data.s3-accelerate.amazonaws.com/\"\n",
    "\n",
    "# Download from remote\n",
    "# def download(name, cache_dir=os.path.join('..', 'data')):\n",
    "#     assert name in DATA_HUB, f\"{name} not in {DATA_HUB}.\"\n",
    "#     url, sha1_hash = DATA_HUB[name]\n",
    "#     os.makedirs(cache_dir, exist_ok=True)\n",
    "#     fname = os.path.join(cache_dir, url.split('/')[-1])\n",
    "#     if os.path.exists(fname):\n",
    "#         sha1 = hashlib.sha1()\n",
    "#         with open(fname, 'rb') as f:\n",
    "#             while True:\n",
    "#                 data = f.read(1048576)  # Read in 1MB chunks\n",
    "#                 if not data:\n",
    "#                     break\n",
    "#                 sha1.update(data)\n",
    "#         if sha1.hexdigest() == sha1_hash:\n",
    "#             return fname  # File exists and the hash matches, return the file name\n",
    "#     # If the execution reaches this point, the file either does not exist, or the hash does not match\n",
    "#     print(f\"Downloading {fname} from {url}...\")\n",
    "#     r = requests.get(url, stream=True, verify=True)\n",
    "#     with open(fname, 'wb') as f:\n",
    "#         for chunk in r.iter_content(chunk_size=1048576):\n",
    "#             f.write(chunk)\n",
    "#     print(f\"Downloaded {fname}.\")\n",
    "#     return fname\n",
    "\n",
    "def download(name, cache_dir='../house-prices-advanced-regression-techniques/'):\n",
    "    assert name in DATA_HUB, f\"{name} not in {DATA_HUB}.\"\n",
    "    filepath, _ = DATA_HUB[name]\n",
    "    # make sure the file exist\n",
    "    if not os.path.exists(filepath):\n",
    "        raise IOError(f\"{filepath} does not exist.\")\n",
    "    return filepath"
   ]
  },
  {
   "cell_type": "code",
   "execution_count": 3,
   "metadata": {},
   "outputs": [
    {
     "name": "stderr",
     "output_type": "stream",
     "text": [
      "/usr/local/lib/python3.8/site-packages/tqdm/auto.py:21: TqdmWarning: IProgress not found. Please update jupyter and ipywidgets. See https://ipywidgets.readthedocs.io/en/stable/user_install.html\n",
      "  from .autonotebook import tqdm as notebook_tqdm\n"
     ]
    }
   ],
   "source": [
    "%matplotlib inline\n",
    "import numpy as np\n",
    "import pandas as pd\n",
    "import torch\n",
    "from torch import nn"
   ]
  },
  {
   "cell_type": "code",
   "execution_count": 4,
   "metadata": {},
   "outputs": [
    {
     "name": "stdout",
     "output_type": "stream",
     "text": [
      "(1460, 81)\n",
      "(1459, 80)\n"
     ]
    }
   ],
   "source": [
    "# DATA_HUB[ 'kaggle_house_train'] = ( DATA_URL + 'kaggle_house_pred_train.csv', '585@9cc93e70b39160e7921475f9bcd7d31219ce')\n",
    "# DATA_HUB[ 'kaggle_house_test'] = (DATA_URL + 'kaggle_house_pred_test.csv', 'fa19780a7b011d9b009e8bff8e99922a8ee2eb90')\n",
    "\n",
    "local_data_dir = 'house-prices-advanced-regression-techniques/'\n",
    "\n",
    "DATA_HUB['kaggle_house_train'] = (local_data_dir + 'train.csv', 'sha1_of_train_file')\n",
    "DATA_HUB['kaggle_house_test'] = (local_data_dir + 'test.csv', 'sha1_of_test_file')\n",
    "\n",
    "train_data = pd.read_csv(download('kaggle_house_train'))\n",
    "test_data = pd.read_csv(download ('kaggle_house_test'))\n",
    "\n",
    "print (train_data.shape) \n",
    "print (test_data.shape)"
   ]
  },
  {
   "cell_type": "code",
   "execution_count": 5,
   "metadata": {},
   "outputs": [
    {
     "name": "stdout",
     "output_type": "stream",
     "text": [
      "   Id  MSSubClass MSZoning  LotFrontage SaleType SaleCondition  SalePrice\n",
      "0   1          60       RL         65.0       WD        Normal     208500\n",
      "1   2          20       RL         80.0       WD        Normal     181500\n",
      "2   3          60       RL         68.0       WD        Normal     223500\n",
      "3   4          70       RL         60.0       WD       Abnorml     140000\n"
     ]
    }
   ],
   "source": [
    "print(train_data.iloc[0:4, [0, 1, 2, 3, -3, -2, -1]])"
   ]
  },
  {
   "cell_type": "code",
   "execution_count": 6,
   "metadata": {},
   "outputs": [],
   "source": [
    "# remove id from data\n",
    "all_features = pd. concat ((train_data.iloc[:,1:-1], test_data.iloc[:, 1:1]))\n",
    "\n",
    "numeric_features = all_features.dtypes[all_features.dtypes != 'object'].index # find the numeric features\n",
    "all_features[numeric_features] = all_features [numeric_features].apply(lambda x: (x - x.mean ()) / (x.std()) ) # Standardize the numeric features\n",
    "all_features [numeric_features] = all_features[numeric_features].fillna(0) # Replace missing values with 0"
   ]
  },
  {
   "cell_type": "code",
   "execution_count": 7,
   "metadata": {},
   "outputs": [
    {
     "data": {
      "text/plain": [
       "(2919, 330)"
      ]
     },
     "execution_count": 7,
     "metadata": {},
     "output_type": "execute_result"
    }
   ],
   "source": [
    "# one hot encoding\n",
    "all_features = pd.get_dummies(all_features, dummy_na=True)\n",
    "all_features.shape"
   ]
  },
  {
   "cell_type": "code",
   "execution_count": 8,
   "metadata": {},
   "outputs": [],
   "source": [
    "n_train = train_data.shape[0]\n",
    "all_features = all_features.astype(float)\n",
    "\n",
    "# change to PyTorch tensor\n",
    "train_features = torch.tensor(all_features[:n_train].values, dtype=torch.float32)\n",
    "test_features = torch.tensor (all_features[n_train:].values, dtype=torch.float32)\n",
    "train_labels = torch.tensor(train_data.SalePrice.values.reshape(-1, 1), dtype=torch.float32)"
   ]
  },
  {
   "cell_type": "markdown",
   "metadata": {},
   "source": [
    "# Train"
   ]
  },
  {
   "cell_type": "code",
   "execution_count": 9,
   "metadata": {},
   "outputs": [],
   "source": [
    "loss = nn.MSELoss() # Mean Squared Error Loss\n",
    "in_features = train_features.shape[1] # Determine the number of input features\n",
    "\n",
    "def get_net ():\n",
    "    # The linear layer takes 'in_features' as input and outputs a single value (1)\n",
    "    net = nn. Sequential(nn.Linear(in_features, 1))\n",
    "    return net"
   ]
  },
  {
   "cell_type": "code",
   "execution_count": 10,
   "metadata": {},
   "outputs": [],
   "source": [
    "# log: relative error\n",
    "def log_rmse(net, features, labels) :\n",
    "    clipped_preds = torch.clamp(net (features), 1, float('inf'))\n",
    "    rmse = torch.sqrt(loss(torch.log(clipped_preds), torch.log(labels)))\n",
    "    return rmse. item()"
   ]
  },
  {
   "cell_type": "code",
   "execution_count": 11,
   "metadata": {},
   "outputs": [],
   "source": [
    "def train(net, train_features, train_labels, test_features, test_labels, num_epochs, learning_rate, weight_decay, batch_size):\n",
    "    train_losses, test_losses = [], [] \n",
    "    train_iter = torch.utils.data.DataLoader(torch.utils.data.TensorDataset(train_features, train_labels), batch_size=batch_size)  # use DataLoader to split data into small peices\n",
    "    optimizer = torch.optim.Adam(net.parameters(), lr=learning_rate, weight_decay=weight_decay) # choose Adam optimizer\n",
    "    loss = nn.MSELoss()\n",
    "    for epoch in range(num_epochs):\n",
    "        for X, Y in train_iter:\n",
    "            optimizer.zero_grad()  # set gradient to 0\n",
    "            l = loss(net(X), Y)\n",
    "            l.backward()\n",
    "            optimizer.step()  # update\n",
    "        train_losses.append(log_rmse(net, train_features, train_labels))\n",
    "        if test_labels is not None:\n",
    "            test_losses.append(log_rmse(net, test_features, test_labels))\n",
    "    return train_losses, test_losses"
   ]
  },
  {
   "cell_type": "code",
   "execution_count": 12,
   "metadata": {},
   "outputs": [],
   "source": [
    "# k-fold cross validation\n",
    "def get_k_fold_data(k, i, X, y):\n",
    "    assert k > 1\n",
    "    fold_size = X.shape[0] // k\n",
    "    X_train, y_train = None, None\n",
    "    for j in range(k):\n",
    "        idx = slice(j * fold_size, (j + 1) * fold_size)\n",
    "        X_part, Y_part = X[idx, :], y[idx]\n",
    "        if j == i:\n",
    "            X_valid, y_valid = X_part, Y_part\n",
    "        elif X_train is None:\n",
    "            X_train, y_train = X_part, Y_part\n",
    "        else:\n",
    "            X_train = torch.cat([X_train, X_part], 0)\n",
    "            y_train = torch.cat([y_train, Y_part], 0)\n",
    "    return X_train, y_train, X_valid, y_valid"
   ]
  },
  {
   "cell_type": "code",
   "execution_count": 13,
   "metadata": {},
   "outputs": [],
   "source": [
    "def k_fold(k, X_train, y_train, num_epochs, learning_rate, weight_decay, batch_size):\n",
    "    train_l_sum, valid_l_sum = 0.0, 0.0\n",
    "    for i in range(k):\n",
    "        data = get_k_fold_data(k, i, X_train, y_train)  # Assuming this function is defined elsewhere\n",
    "        net = get_net()  # Assuming this function is defined elsewhere\n",
    "        train_ls, valid_ls = train(net, *data, num_epochs, learning_rate, weight_decay, batch_size)\n",
    "        train_l_sum += train_ls[-1]\n",
    "        valid_l_sum += valid_ls[-1]\n",
    "        if i == 0:\n",
    "            # Plotting the learning curves for the first fold\n",
    "            plt.plot(list(range(1, num_epochs + 1)), train_ls, label='Train')\n",
    "            plt.plot(list(range(1, num_epochs + 1)), valid_ls, label='Valid', linestyle='dashed')\n",
    "            plt.xlabel('Epoch')\n",
    "            plt.ylabel('RMSE')\n",
    "            plt.xlim([1, num_epochs])\n",
    "            plt.yscale('log')\n",
    "            plt.legend()\n",
    "            plt.show()\n",
    "        print(f'Fold {i + 1}, train log RMSE {float(train_ls[-1]):f}, valid log RMSE {float(valid_ls[-1]):f}')\n",
    "    return train_l_sum / k, valid_l_sum / k"
   ]
  },
  {
   "cell_type": "code",
   "execution_count": 14,
   "metadata": {},
   "outputs": [
    {
     "data": {
      "image/png": "[encoded data removed]",
      "text/plain": [
       "<Figure size 640x480 with 1 Axes>"
      ]
     },
     "metadata": {},
     "output_type": "display_data"
    },
    {
     "name": "stdout",
     "output_type": "stream",
     "text": [
      "Fold 1, train log RMSE 0.169983, valid log RMSE 0.159702\n",
      "Fold 2, train log RMSE 0.160983, valid log RMSE 0.185929\n",
      "Fold 3, train log RMSE 0.163225, valid log RMSE 0.166144\n",
      "Fold 4, train log RMSE 0.167226, valid log RMSE 0.153033\n",
      "Fold 5, train log RMSE 0.161320, valid log RMSE 0.183877\n",
      "5-fold validation: Average train log RMSE: 0.1645, Average valid log RMSE: 0.1697\n"
     ]
    }
   ],
   "source": [
    "k, num_epochs, lr, weight_decay, batch_size = 5, 100, 5, 0, 64 # tuned param\n",
    "train_l, valid_l = k_fold(k, train_features, train_labels, num_epochs, lr, weight_decay, batch_size)\n",
    "print(f'{k}-fold validation: Average train log RMSE: {float(train_l):.4f}, Average valid log RMSE: {float(valid_l):.4f}')"
   ]
  },
  {
   "cell_type": "code",
   "execution_count": 15,
   "metadata": {},
   "outputs": [
    {
     "data": {
      "image/png": "[encoded data removed]",
      "text/plain": [
       "<Figure size 640x480 with 1 Axes>"
      ]
     },
     "metadata": {},
     "output_type": "display_data"
    },
    {
     "name": "stdout",
     "output_type": "stream",
     "text": [
      "Train log RMSE: 0.160918\n"
     ]
    }
   ],
   "source": [
    "def train_and_pred(train_features, test_features, train_labels, test_data, num_epochs, lr, weight_decay, batch_size):\n",
    "    net = get_net()\n",
    "    train_ls, _ = train(net, train_features, train_labels, None, None, num_epochs, lr, weight_decay, batch_size)\n",
    "    \n",
    "    plt.plot(np.arange(1, num_epochs + 1), train_ls, label='Train')\n",
    "    plt.xlabel('Epoch')  \n",
    "    plt.ylabel('Log RMSE')\n",
    "    plt.xlim([1, num_epochs])\n",
    "    plt.yscale('log')\n",
    "    plt.legend()\n",
    "    plt.show()\n",
    "\n",
    "    print(f'Train log RMSE: {float(train_ls[-1]):f}')\n",
    "    preds = net(test_features).detach().numpy()\n",
    "    test_data['SalePrice'] = pd.Series(preds.reshape(-1))\n",
    "    submission = pd.concat([test_data['Id'], test_data['SalePrice']], axis=1)\n",
    "    submission.to_csv('submission.csv', index=False)\n",
    "\n",
    "# predict based on tune parameters\n",
    "train_and_pred(train_features, test_features, train_labels, test_data, num_epochs, lr, weight_decay, batch_size)"
   ]
  }
 ],
 "metadata": {
  "kernelspec": {
   "display_name": "Python 3",
   "language": "python",
   "name": "python3"
  },
  "language_info": {
   "codemirror_mode": {
    "name": "ipython",
    "version": 3
   },
   "file_extension": ".py",
   "mimetype": "text/x-python",
   "name": "python",
   "nbconvert_exporter": "python",
   "pygments_lexer": "ipython3",
   "version": "3.8.16"
  }
 },
 "nbformat": 4,
 "nbformat_minor": 2
}
